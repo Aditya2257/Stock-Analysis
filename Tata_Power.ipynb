{
 "cells": [
  {
   "cell_type": "markdown",
   "id": "1615e0b1-1620-441b-ad51-c91b15fb3313",
   "metadata": {},
   "source": [
    "# **Step1:- Importing Dataset Using Pandas Datareader**"
   ]
  },
  {
   "cell_type": "code",
   "execution_count": 2,
   "id": "145ce38e-8e08-46d0-9a41-106430f2c8a0",
   "metadata": {},
   "outputs": [],
   "source": [
    "import pandas as pd\n",
    "import pandas_datareader as pdr\n",
    "import datetime "
   ]
  },
  {
   "cell_type": "code",
   "execution_count": 3,
   "id": "ffc4c4fe-fd24-4b74-ab47-73e5b654fe0c",
   "metadata": {},
   "outputs": [
    {
     "data": {
      "text/html": [
       "<div>\n",
       "<style scoped>\n",
       "    .dataframe tbody tr th:only-of-type {\n",
       "        vertical-align: middle;\n",
       "    }\n",
       "\n",
       "    .dataframe tbody tr th {\n",
       "        vertical-align: top;\n",
       "    }\n",
       "\n",
       "    .dataframe thead th {\n",
       "        text-align: right;\n",
       "    }\n",
       "</style>\n",
       "<table border=\"1\" class=\"dataframe\">\n",
       "  <thead>\n",
       "    <tr style=\"text-align: right;\">\n",
       "      <th></th>\n",
       "      <th>High</th>\n",
       "      <th>Low</th>\n",
       "      <th>Open</th>\n",
       "      <th>Close</th>\n",
       "      <th>Volume</th>\n",
       "      <th>Adj Close</th>\n",
       "    </tr>\n",
       "    <tr>\n",
       "      <th>Date</th>\n",
       "      <th></th>\n",
       "      <th></th>\n",
       "      <th></th>\n",
       "      <th></th>\n",
       "      <th></th>\n",
       "      <th></th>\n",
       "    </tr>\n",
       "  </thead>\n",
       "  <tbody>\n",
       "    <tr>\n",
       "      <th>2011-01-03</th>\n",
       "      <td>133.558380</td>\n",
       "      <td>132.014343</td>\n",
       "      <td>133.558380</td>\n",
       "      <td>132.665741</td>\n",
       "      <td>1747585.0</td>\n",
       "      <td>104.660759</td>\n",
       "    </tr>\n",
       "    <tr>\n",
       "      <th>2011-01-04</th>\n",
       "      <td>133.558380</td>\n",
       "      <td>131.584915</td>\n",
       "      <td>132.506500</td>\n",
       "      <td>133.235092</td>\n",
       "      <td>2267182.0</td>\n",
       "      <td>105.109940</td>\n",
       "    </tr>\n",
       "    <tr>\n",
       "      <th>2011-01-05</th>\n",
       "      <td>135.777908</td>\n",
       "      <td>132.120499</td>\n",
       "      <td>132.979370</td>\n",
       "      <td>135.189255</td>\n",
       "      <td>3228574.0</td>\n",
       "      <td>106.651573</td>\n",
       "    </tr>\n",
       "    <tr>\n",
       "      <th>2011-01-06</th>\n",
       "      <td>136.163925</td>\n",
       "      <td>133.321945</td>\n",
       "      <td>134.619888</td>\n",
       "      <td>135.034851</td>\n",
       "      <td>2761494.0</td>\n",
       "      <td>106.529770</td>\n",
       "    </tr>\n",
       "    <tr>\n",
       "      <th>2011-01-07</th>\n",
       "      <td>135.763443</td>\n",
       "      <td>132.796005</td>\n",
       "      <td>133.881653</td>\n",
       "      <td>134.065002</td>\n",
       "      <td>3027490.0</td>\n",
       "      <td>105.764641</td>\n",
       "    </tr>\n",
       "    <tr>\n",
       "      <th>...</th>\n",
       "      <td>...</td>\n",
       "      <td>...</td>\n",
       "      <td>...</td>\n",
       "      <td>...</td>\n",
       "      <td>...</td>\n",
       "      <td>...</td>\n",
       "    </tr>\n",
       "    <tr>\n",
       "      <th>2021-12-27</th>\n",
       "      <td>217.750000</td>\n",
       "      <td>213.800003</td>\n",
       "      <td>216.600006</td>\n",
       "      <td>217.350006</td>\n",
       "      <td>15870056.0</td>\n",
       "      <td>217.350006</td>\n",
       "    </tr>\n",
       "    <tr>\n",
       "      <th>2021-12-28</th>\n",
       "      <td>222.199997</td>\n",
       "      <td>218.500000</td>\n",
       "      <td>218.699997</td>\n",
       "      <td>221.600006</td>\n",
       "      <td>19058757.0</td>\n",
       "      <td>221.600006</td>\n",
       "    </tr>\n",
       "    <tr>\n",
       "      <th>2021-12-29</th>\n",
       "      <td>223.250000</td>\n",
       "      <td>218.850006</td>\n",
       "      <td>221.000000</td>\n",
       "      <td>219.449997</td>\n",
       "      <td>14504319.0</td>\n",
       "      <td>219.449997</td>\n",
       "    </tr>\n",
       "    <tr>\n",
       "      <th>2021-12-30</th>\n",
       "      <td>221.000000</td>\n",
       "      <td>217.050003</td>\n",
       "      <td>218.699997</td>\n",
       "      <td>218.350006</td>\n",
       "      <td>14315067.0</td>\n",
       "      <td>218.350006</td>\n",
       "    </tr>\n",
       "    <tr>\n",
       "      <th>2021-12-31</th>\n",
       "      <td>222.000000</td>\n",
       "      <td>218.350006</td>\n",
       "      <td>218.899994</td>\n",
       "      <td>220.949997</td>\n",
       "      <td>12737974.0</td>\n",
       "      <td>220.949997</td>\n",
       "    </tr>\n",
       "  </tbody>\n",
       "</table>\n",
       "<p>2711 rows × 6 columns</p>\n",
       "</div>"
      ],
      "text/plain": [
       "                  High         Low        Open       Close      Volume  \\\n",
       "Date                                                                     \n",
       "2011-01-03  133.558380  132.014343  133.558380  132.665741   1747585.0   \n",
       "2011-01-04  133.558380  131.584915  132.506500  133.235092   2267182.0   \n",
       "2011-01-05  135.777908  132.120499  132.979370  135.189255   3228574.0   \n",
       "2011-01-06  136.163925  133.321945  134.619888  135.034851   2761494.0   \n",
       "2011-01-07  135.763443  132.796005  133.881653  134.065002   3027490.0   \n",
       "...                ...         ...         ...         ...         ...   \n",
       "2021-12-27  217.750000  213.800003  216.600006  217.350006  15870056.0   \n",
       "2021-12-28  222.199997  218.500000  218.699997  221.600006  19058757.0   \n",
       "2021-12-29  223.250000  218.850006  221.000000  219.449997  14504319.0   \n",
       "2021-12-30  221.000000  217.050003  218.699997  218.350006  14315067.0   \n",
       "2021-12-31  222.000000  218.350006  218.899994  220.949997  12737974.0   \n",
       "\n",
       "             Adj Close  \n",
       "Date                    \n",
       "2011-01-03  104.660759  \n",
       "2011-01-04  105.109940  \n",
       "2011-01-05  106.651573  \n",
       "2011-01-06  106.529770  \n",
       "2011-01-07  105.764641  \n",
       "...                ...  \n",
       "2021-12-27  217.350006  \n",
       "2021-12-28  221.600006  \n",
       "2021-12-29  219.449997  \n",
       "2021-12-30  218.350006  \n",
       "2021-12-31  220.949997  \n",
       "\n",
       "[2711 rows x 6 columns]"
      ]
     },
     "execution_count": 3,
     "metadata": {},
     "output_type": "execute_result"
    }
   ],
   "source": [
    "Tata_Power = pdr.get_data_yahoo('TATAPOWER.NS', \n",
    "                          start=datetime.datetime(2011, 1, 1), \n",
    "                          end=datetime.datetime(2022, 1, 1))\n",
    "Tata_Power"
   ]
  },
  {
   "cell_type": "markdown",
   "id": "3711ccd7-bbfe-4c19-ac3d-61bf1b6ac991",
   "metadata": {},
   "source": [
    "**Assesment of Data**"
   ]
  },
  {
   "cell_type": "code",
   "execution_count": 3,
   "id": "9fb1ec08-d9a3-4c5e-a948-2350cc039d98",
   "metadata": {},
   "outputs": [
    {
     "data": {
      "text/plain": [
       "(2711, 6)"
      ]
     },
     "execution_count": 3,
     "metadata": {},
     "output_type": "execute_result"
    }
   ],
   "source": [
    "Tata_Power.shape"
   ]
  },
  {
   "cell_type": "code",
   "execution_count": 4,
   "id": "05019125-bf04-4f8d-92b5-6d2551af1f07",
   "metadata": {},
   "outputs": [
    {
     "data": {
      "text/plain": [
       "16266"
      ]
     },
     "execution_count": 4,
     "metadata": {},
     "output_type": "execute_result"
    }
   ],
   "source": [
    "Tata_Power.size"
   ]
  },
  {
   "cell_type": "code",
   "execution_count": 5,
   "id": "0108dd79-3159-4eb7-94b9-c395bdce6962",
   "metadata": {},
   "outputs": [
    {
     "data": {
      "text/html": [
       "<div>\n",
       "<style scoped>\n",
       "    .dataframe tbody tr th:only-of-type {\n",
       "        vertical-align: middle;\n",
       "    }\n",
       "\n",
       "    .dataframe tbody tr th {\n",
       "        vertical-align: top;\n",
       "    }\n",
       "\n",
       "    .dataframe thead th {\n",
       "        text-align: right;\n",
       "    }\n",
       "</style>\n",
       "<table border=\"1\" class=\"dataframe\">\n",
       "  <thead>\n",
       "    <tr style=\"text-align: right;\">\n",
       "      <th></th>\n",
       "      <th>High</th>\n",
       "      <th>Low</th>\n",
       "      <th>Open</th>\n",
       "      <th>Close</th>\n",
       "      <th>Volume</th>\n",
       "      <th>Adj Close</th>\n",
       "    </tr>\n",
       "    <tr>\n",
       "      <th>Date</th>\n",
       "      <th></th>\n",
       "      <th></th>\n",
       "      <th></th>\n",
       "      <th></th>\n",
       "      <th></th>\n",
       "      <th></th>\n",
       "    </tr>\n",
       "  </thead>\n",
       "  <tbody>\n",
       "    <tr>\n",
       "      <th>2011-01-03</th>\n",
       "      <td>133.558380</td>\n",
       "      <td>132.014343</td>\n",
       "      <td>133.558380</td>\n",
       "      <td>132.665741</td>\n",
       "      <td>1747585.0</td>\n",
       "      <td>104.660759</td>\n",
       "    </tr>\n",
       "    <tr>\n",
       "      <th>2011-01-04</th>\n",
       "      <td>133.558380</td>\n",
       "      <td>131.584915</td>\n",
       "      <td>132.506500</td>\n",
       "      <td>133.235092</td>\n",
       "      <td>2267182.0</td>\n",
       "      <td>105.109932</td>\n",
       "    </tr>\n",
       "    <tr>\n",
       "      <th>2011-01-05</th>\n",
       "      <td>135.777908</td>\n",
       "      <td>132.120499</td>\n",
       "      <td>132.979370</td>\n",
       "      <td>135.189255</td>\n",
       "      <td>3228574.0</td>\n",
       "      <td>106.651588</td>\n",
       "    </tr>\n",
       "    <tr>\n",
       "      <th>2011-01-06</th>\n",
       "      <td>136.163925</td>\n",
       "      <td>133.321945</td>\n",
       "      <td>134.619888</td>\n",
       "      <td>135.034851</td>\n",
       "      <td>2761494.0</td>\n",
       "      <td>106.529770</td>\n",
       "    </tr>\n",
       "    <tr>\n",
       "      <th>2011-01-07</th>\n",
       "      <td>135.763443</td>\n",
       "      <td>132.796005</td>\n",
       "      <td>133.881653</td>\n",
       "      <td>134.065002</td>\n",
       "      <td>3027490.0</td>\n",
       "      <td>105.764656</td>\n",
       "    </tr>\n",
       "  </tbody>\n",
       "</table>\n",
       "</div>"
      ],
      "text/plain": [
       "                  High         Low        Open       Close     Volume  \\\n",
       "Date                                                                    \n",
       "2011-01-03  133.558380  132.014343  133.558380  132.665741  1747585.0   \n",
       "2011-01-04  133.558380  131.584915  132.506500  133.235092  2267182.0   \n",
       "2011-01-05  135.777908  132.120499  132.979370  135.189255  3228574.0   \n",
       "2011-01-06  136.163925  133.321945  134.619888  135.034851  2761494.0   \n",
       "2011-01-07  135.763443  132.796005  133.881653  134.065002  3027490.0   \n",
       "\n",
       "             Adj Close  \n",
       "Date                    \n",
       "2011-01-03  104.660759  \n",
       "2011-01-04  105.109932  \n",
       "2011-01-05  106.651588  \n",
       "2011-01-06  106.529770  \n",
       "2011-01-07  105.764656  "
      ]
     },
     "execution_count": 5,
     "metadata": {},
     "output_type": "execute_result"
    }
   ],
   "source": [
    "Tata_Power.head()"
   ]
  },
  {
   "cell_type": "code",
   "execution_count": 6,
   "id": "1e146a1f-0f26-44ba-a8a6-f07d67ed3d5d",
   "metadata": {},
   "outputs": [
    {
     "data": {
      "text/html": [
       "<div>\n",
       "<style scoped>\n",
       "    .dataframe tbody tr th:only-of-type {\n",
       "        vertical-align: middle;\n",
       "    }\n",
       "\n",
       "    .dataframe tbody tr th {\n",
       "        vertical-align: top;\n",
       "    }\n",
       "\n",
       "    .dataframe thead th {\n",
       "        text-align: right;\n",
       "    }\n",
       "</style>\n",
       "<table border=\"1\" class=\"dataframe\">\n",
       "  <thead>\n",
       "    <tr style=\"text-align: right;\">\n",
       "      <th></th>\n",
       "      <th>High</th>\n",
       "      <th>Low</th>\n",
       "      <th>Open</th>\n",
       "      <th>Close</th>\n",
       "      <th>Volume</th>\n",
       "      <th>Adj Close</th>\n",
       "    </tr>\n",
       "    <tr>\n",
       "      <th>Date</th>\n",
       "      <th></th>\n",
       "      <th></th>\n",
       "      <th></th>\n",
       "      <th></th>\n",
       "      <th></th>\n",
       "      <th></th>\n",
       "    </tr>\n",
       "  </thead>\n",
       "  <tbody>\n",
       "    <tr>\n",
       "      <th>2021-12-27</th>\n",
       "      <td>217.750000</td>\n",
       "      <td>213.800003</td>\n",
       "      <td>216.600006</td>\n",
       "      <td>217.350006</td>\n",
       "      <td>15870056.0</td>\n",
       "      <td>217.350006</td>\n",
       "    </tr>\n",
       "    <tr>\n",
       "      <th>2021-12-28</th>\n",
       "      <td>222.199997</td>\n",
       "      <td>218.500000</td>\n",
       "      <td>218.699997</td>\n",
       "      <td>221.600006</td>\n",
       "      <td>19058757.0</td>\n",
       "      <td>221.600006</td>\n",
       "    </tr>\n",
       "    <tr>\n",
       "      <th>2021-12-29</th>\n",
       "      <td>223.250000</td>\n",
       "      <td>218.850006</td>\n",
       "      <td>221.000000</td>\n",
       "      <td>219.449997</td>\n",
       "      <td>14504319.0</td>\n",
       "      <td>219.449997</td>\n",
       "    </tr>\n",
       "    <tr>\n",
       "      <th>2021-12-30</th>\n",
       "      <td>221.000000</td>\n",
       "      <td>217.050003</td>\n",
       "      <td>218.699997</td>\n",
       "      <td>218.350006</td>\n",
       "      <td>14315067.0</td>\n",
       "      <td>218.350006</td>\n",
       "    </tr>\n",
       "    <tr>\n",
       "      <th>2021-12-31</th>\n",
       "      <td>222.000000</td>\n",
       "      <td>218.350006</td>\n",
       "      <td>218.899994</td>\n",
       "      <td>220.949997</td>\n",
       "      <td>12737974.0</td>\n",
       "      <td>220.949997</td>\n",
       "    </tr>\n",
       "  </tbody>\n",
       "</table>\n",
       "</div>"
      ],
      "text/plain": [
       "                  High         Low        Open       Close      Volume  \\\n",
       "Date                                                                     \n",
       "2021-12-27  217.750000  213.800003  216.600006  217.350006  15870056.0   \n",
       "2021-12-28  222.199997  218.500000  218.699997  221.600006  19058757.0   \n",
       "2021-12-29  223.250000  218.850006  221.000000  219.449997  14504319.0   \n",
       "2021-12-30  221.000000  217.050003  218.699997  218.350006  14315067.0   \n",
       "2021-12-31  222.000000  218.350006  218.899994  220.949997  12737974.0   \n",
       "\n",
       "             Adj Close  \n",
       "Date                    \n",
       "2021-12-27  217.350006  \n",
       "2021-12-28  221.600006  \n",
       "2021-12-29  219.449997  \n",
       "2021-12-30  218.350006  \n",
       "2021-12-31  220.949997  "
      ]
     },
     "execution_count": 6,
     "metadata": {},
     "output_type": "execute_result"
    }
   ],
   "source": [
    "Tata_Power.tail()"
   ]
  },
  {
   "cell_type": "code",
   "execution_count": 7,
   "id": "35e561ef-819d-4aae-acc2-82e93b4e639e",
   "metadata": {},
   "outputs": [
    {
     "name": "stdout",
     "output_type": "stream",
     "text": [
      "<class 'pandas.core.frame.DataFrame'>\n",
      "DatetimeIndex: 2711 entries, 2011-01-03 to 2021-12-31\n",
      "Data columns (total 6 columns):\n",
      " #   Column     Non-Null Count  Dtype  \n",
      "---  ------     --------------  -----  \n",
      " 0   High       2711 non-null   float64\n",
      " 1   Low        2711 non-null   float64\n",
      " 2   Open       2711 non-null   float64\n",
      " 3   Close      2711 non-null   float64\n",
      " 4   Volume     2711 non-null   float64\n",
      " 5   Adj Close  2711 non-null   float64\n",
      "dtypes: float64(6)\n",
      "memory usage: 148.3 KB\n"
     ]
    }
   ],
   "source": [
    "Tata_Power.info()"
   ]
  },
  {
   "cell_type": "code",
   "execution_count": 8,
   "id": "63549e5c-751a-45ce-b27c-6ed8c4a5bbc3",
   "metadata": {},
   "outputs": [
    {
     "data": {
      "text/plain": [
       "High         0\n",
       "Low          0\n",
       "Open         0\n",
       "Close        0\n",
       "Volume       0\n",
       "Adj Close    0\n",
       "dtype: int64"
      ]
     },
     "execution_count": 8,
     "metadata": {},
     "output_type": "execute_result"
    }
   ],
   "source": [
    "Tata_Power.isnull().sum()"
   ]
  },
  {
   "cell_type": "code",
   "execution_count": 9,
   "id": "78e59113-0ee1-4da7-a1a7-3ed92547282d",
   "metadata": {},
   "outputs": [
    {
     "data": {
      "text/html": [
       "<div>\n",
       "<style scoped>\n",
       "    .dataframe tbody tr th:only-of-type {\n",
       "        vertical-align: middle;\n",
       "    }\n",
       "\n",
       "    .dataframe tbody tr th {\n",
       "        vertical-align: top;\n",
       "    }\n",
       "\n",
       "    .dataframe thead th {\n",
       "        text-align: right;\n",
       "    }\n",
       "</style>\n",
       "<table border=\"1\" class=\"dataframe\">\n",
       "  <thead>\n",
       "    <tr style=\"text-align: right;\">\n",
       "      <th></th>\n",
       "      <th>High</th>\n",
       "      <th>Low</th>\n",
       "      <th>Open</th>\n",
       "      <th>Close</th>\n",
       "      <th>Volume</th>\n",
       "      <th>Adj Close</th>\n",
       "    </tr>\n",
       "  </thead>\n",
       "  <tbody>\n",
       "    <tr>\n",
       "      <th>count</th>\n",
       "      <td>2711.000000</td>\n",
       "      <td>2711.000000</td>\n",
       "      <td>2711.000000</td>\n",
       "      <td>2711.000000</td>\n",
       "      <td>2.711000e+03</td>\n",
       "      <td>2711.000000</td>\n",
       "    </tr>\n",
       "    <tr>\n",
       "      <th>mean</th>\n",
       "      <td>87.234146</td>\n",
       "      <td>84.412476</td>\n",
       "      <td>85.928142</td>\n",
       "      <td>85.750063</td>\n",
       "      <td>1.099465e+07</td>\n",
       "      <td>74.538560</td>\n",
       "    </tr>\n",
       "    <tr>\n",
       "      <th>std</th>\n",
       "      <td>29.648601</td>\n",
       "      <td>28.407062</td>\n",
       "      <td>29.073775</td>\n",
       "      <td>29.023892</td>\n",
       "      <td>2.143763e+07</td>\n",
       "      <td>28.359703</td>\n",
       "    </tr>\n",
       "    <tr>\n",
       "      <th>min</th>\n",
       "      <td>28.600000</td>\n",
       "      <td>27.000000</td>\n",
       "      <td>27.250000</td>\n",
       "      <td>27.299999</td>\n",
       "      <td>0.000000e+00</td>\n",
       "      <td>26.122255</td>\n",
       "    </tr>\n",
       "    <tr>\n",
       "      <th>25%</th>\n",
       "      <td>72.025002</td>\n",
       "      <td>69.699997</td>\n",
       "      <td>71.000000</td>\n",
       "      <td>70.699997</td>\n",
       "      <td>2.720509e+06</td>\n",
       "      <td>61.300238</td>\n",
       "    </tr>\n",
       "    <tr>\n",
       "      <th>50%</th>\n",
       "      <td>82.364212</td>\n",
       "      <td>80.199997</td>\n",
       "      <td>81.250000</td>\n",
       "      <td>81.150002</td>\n",
       "      <td>4.314947e+06</td>\n",
       "      <td>69.499695</td>\n",
       "    </tr>\n",
       "    <tr>\n",
       "      <th>75%</th>\n",
       "      <td>96.501717</td>\n",
       "      <td>93.606667</td>\n",
       "      <td>95.198944</td>\n",
       "      <td>94.861191</td>\n",
       "      <td>8.420032e+06</td>\n",
       "      <td>78.295864</td>\n",
       "    </tr>\n",
       "    <tr>\n",
       "      <th>max</th>\n",
       "      <td>267.850006</td>\n",
       "      <td>243.000000</td>\n",
       "      <td>266.000000</td>\n",
       "      <td>257.299988</td>\n",
       "      <td>3.606618e+08</td>\n",
       "      <td>257.299988</td>\n",
       "    </tr>\n",
       "  </tbody>\n",
       "</table>\n",
       "</div>"
      ],
      "text/plain": [
       "              High          Low         Open        Close        Volume  \\\n",
       "count  2711.000000  2711.000000  2711.000000  2711.000000  2.711000e+03   \n",
       "mean     87.234146    84.412476    85.928142    85.750063  1.099465e+07   \n",
       "std      29.648601    28.407062    29.073775    29.023892  2.143763e+07   \n",
       "min      28.600000    27.000000    27.250000    27.299999  0.000000e+00   \n",
       "25%      72.025002    69.699997    71.000000    70.699997  2.720509e+06   \n",
       "50%      82.364212    80.199997    81.250000    81.150002  4.314947e+06   \n",
       "75%      96.501717    93.606667    95.198944    94.861191  8.420032e+06   \n",
       "max     267.850006   243.000000   266.000000   257.299988  3.606618e+08   \n",
       "\n",
       "         Adj Close  \n",
       "count  2711.000000  \n",
       "mean     74.538560  \n",
       "std      28.359703  \n",
       "min      26.122255  \n",
       "25%      61.300238  \n",
       "50%      69.499695  \n",
       "75%      78.295864  \n",
       "max     257.299988  "
      ]
     },
     "execution_count": 9,
     "metadata": {},
     "output_type": "execute_result"
    }
   ],
   "source": [
    "Tata_Power.describe()"
   ]
  },
  {
   "cell_type": "code",
   "execution_count": 10,
   "id": "56eb72cf-f7b5-4c2d-a2c9-0812faf5668a",
   "metadata": {},
   "outputs": [
    {
     "data": {
      "text/html": [
       "<div>\n",
       "<style scoped>\n",
       "    .dataframe tbody tr th:only-of-type {\n",
       "        vertical-align: middle;\n",
       "    }\n",
       "\n",
       "    .dataframe tbody tr th {\n",
       "        vertical-align: top;\n",
       "    }\n",
       "\n",
       "    .dataframe thead th {\n",
       "        text-align: right;\n",
       "    }\n",
       "</style>\n",
       "<table border=\"1\" class=\"dataframe\">\n",
       "  <thead>\n",
       "    <tr style=\"text-align: right;\">\n",
       "      <th></th>\n",
       "      <th>High</th>\n",
       "      <th>Low</th>\n",
       "      <th>Open</th>\n",
       "      <th>Close</th>\n",
       "      <th>Volume</th>\n",
       "      <th>Adj Close</th>\n",
       "    </tr>\n",
       "    <tr>\n",
       "      <th>Date</th>\n",
       "      <th></th>\n",
       "      <th></th>\n",
       "      <th></th>\n",
       "      <th></th>\n",
       "      <th></th>\n",
       "      <th></th>\n",
       "    </tr>\n",
       "  </thead>\n",
       "  <tbody>\n",
       "    <tr>\n",
       "      <th>2021-10-19</th>\n",
       "      <td>267.850006</td>\n",
       "      <td>221.5</td>\n",
       "      <td>266.0</td>\n",
       "      <td>229.75</td>\n",
       "      <td>245771135.0</td>\n",
       "      <td>229.75</td>\n",
       "    </tr>\n",
       "  </tbody>\n",
       "</table>\n",
       "</div>"
      ],
      "text/plain": [
       "                  High    Low   Open   Close       Volume  Adj Close\n",
       "Date                                                                \n",
       "2021-10-19  267.850006  221.5  266.0  229.75  245771135.0     229.75"
      ]
     },
     "execution_count": 10,
     "metadata": {},
     "output_type": "execute_result"
    }
   ],
   "source": [
    "Tata_Power.loc[Tata_Power['High']>=267]"
   ]
  },
  {
   "cell_type": "code",
   "execution_count": 5,
   "id": "2ac54d12-298e-4a32-9ed4-527c8b550631",
   "metadata": {},
   "outputs": [
    {
     "data": {
      "text/html": [
       "<div>\n",
       "<style scoped>\n",
       "    .dataframe tbody tr th:only-of-type {\n",
       "        vertical-align: middle;\n",
       "    }\n",
       "\n",
       "    .dataframe tbody tr th {\n",
       "        vertical-align: top;\n",
       "    }\n",
       "\n",
       "    .dataframe thead th {\n",
       "        text-align: right;\n",
       "    }\n",
       "</style>\n",
       "<table border=\"1\" class=\"dataframe\">\n",
       "  <thead>\n",
       "    <tr style=\"text-align: right;\">\n",
       "      <th></th>\n",
       "      <th>High</th>\n",
       "      <th>Low</th>\n",
       "      <th>Open</th>\n",
       "      <th>Close</th>\n",
       "      <th>Volume</th>\n",
       "      <th>Adj Close</th>\n",
       "    </tr>\n",
       "    <tr>\n",
       "      <th>Date</th>\n",
       "      <th></th>\n",
       "      <th></th>\n",
       "      <th></th>\n",
       "      <th></th>\n",
       "      <th></th>\n",
       "      <th></th>\n",
       "    </tr>\n",
       "  </thead>\n",
       "  <tbody>\n",
       "    <tr>\n",
       "      <th>2021-10-19</th>\n",
       "      <td>267.850006</td>\n",
       "      <td>221.5</td>\n",
       "      <td>266.0</td>\n",
       "      <td>229.75</td>\n",
       "      <td>245771135.0</td>\n",
       "      <td>229.75</td>\n",
       "    </tr>\n",
       "  </tbody>\n",
       "</table>\n",
       "</div>"
      ],
      "text/plain": [
       "                  High    Low   Open   Close       Volume  Adj Close\n",
       "Date                                                                \n",
       "2021-10-19  267.850006  221.5  266.0  229.75  245771135.0     229.75"
      ]
     },
     "execution_count": 5,
     "metadata": {},
     "output_type": "execute_result"
    }
   ],
   "source": [
    "Tata_Power[Tata_Power.High>= 267]"
   ]
  },
  {
   "cell_type": "code",
   "execution_count": 11,
   "id": "685d946d-9646-4f4f-9bf0-670032d52711",
   "metadata": {},
   "outputs": [
    {
     "data": {
      "text/html": [
       "<div>\n",
       "<style scoped>\n",
       "    .dataframe tbody tr th:only-of-type {\n",
       "        vertical-align: middle;\n",
       "    }\n",
       "\n",
       "    .dataframe tbody tr th {\n",
       "        vertical-align: top;\n",
       "    }\n",
       "\n",
       "    .dataframe thead th {\n",
       "        text-align: right;\n",
       "    }\n",
       "</style>\n",
       "<table border=\"1\" class=\"dataframe\">\n",
       "  <thead>\n",
       "    <tr style=\"text-align: right;\">\n",
       "      <th></th>\n",
       "      <th>High</th>\n",
       "      <th>Low</th>\n",
       "      <th>Open</th>\n",
       "      <th>Close</th>\n",
       "      <th>Volume</th>\n",
       "      <th>Adj Close</th>\n",
       "    </tr>\n",
       "    <tr>\n",
       "      <th>Date</th>\n",
       "      <th></th>\n",
       "      <th></th>\n",
       "      <th></th>\n",
       "      <th></th>\n",
       "      <th></th>\n",
       "      <th></th>\n",
       "    </tr>\n",
       "  </thead>\n",
       "  <tbody>\n",
       "    <tr>\n",
       "      <th>2020-05-08</th>\n",
       "      <td>29.799999</td>\n",
       "      <td>27.65</td>\n",
       "      <td>29.799999</td>\n",
       "      <td>28.500000</td>\n",
       "      <td>20376200.0</td>\n",
       "      <td>27.270487</td>\n",
       "    </tr>\n",
       "    <tr>\n",
       "      <th>2020-05-11</th>\n",
       "      <td>29.000000</td>\n",
       "      <td>27.15</td>\n",
       "      <td>29.000000</td>\n",
       "      <td>27.299999</td>\n",
       "      <td>36502236.0</td>\n",
       "      <td>26.122255</td>\n",
       "    </tr>\n",
       "    <tr>\n",
       "      <th>2020-05-12</th>\n",
       "      <td>28.600000</td>\n",
       "      <td>27.00</td>\n",
       "      <td>27.250000</td>\n",
       "      <td>28.400000</td>\n",
       "      <td>27226330.0</td>\n",
       "      <td>27.174801</td>\n",
       "    </tr>\n",
       "  </tbody>\n",
       "</table>\n",
       "</div>"
      ],
      "text/plain": [
       "                 High    Low       Open      Close      Volume  Adj Close\n",
       "Date                                                                     \n",
       "2020-05-08  29.799999  27.65  29.799999  28.500000  20376200.0  27.270487\n",
       "2020-05-11  29.000000  27.15  29.000000  27.299999  36502236.0  26.122255\n",
       "2020-05-12  28.600000  27.00  27.250000  28.400000  27226330.0  27.174801"
      ]
     },
     "execution_count": 11,
     "metadata": {},
     "output_type": "execute_result"
    }
   ],
   "source": [
    "Tata_Power.loc[Tata_Power['Low']<=28.6]"
   ]
  },
  {
   "cell_type": "code",
   "execution_count": 12,
   "id": "e19ea063-c2fd-46c1-9929-0e7cc0f4b943",
   "metadata": {},
   "outputs": [
    {
     "data": {
      "text/html": [
       "<div>\n",
       "<style scoped>\n",
       "    .dataframe tbody tr th:only-of-type {\n",
       "        vertical-align: middle;\n",
       "    }\n",
       "\n",
       "    .dataframe tbody tr th {\n",
       "        vertical-align: top;\n",
       "    }\n",
       "\n",
       "    .dataframe thead th {\n",
       "        text-align: right;\n",
       "    }\n",
       "</style>\n",
       "<table border=\"1\" class=\"dataframe\">\n",
       "  <thead>\n",
       "    <tr style=\"text-align: right;\">\n",
       "      <th></th>\n",
       "      <th>High</th>\n",
       "      <th>Low</th>\n",
       "      <th>Open</th>\n",
       "      <th>Close</th>\n",
       "      <th>Volume</th>\n",
       "      <th>Adj Close</th>\n",
       "    </tr>\n",
       "    <tr>\n",
       "      <th>Date</th>\n",
       "      <th></th>\n",
       "      <th></th>\n",
       "      <th></th>\n",
       "      <th></th>\n",
       "      <th></th>\n",
       "      <th></th>\n",
       "    </tr>\n",
       "  </thead>\n",
       "  <tbody>\n",
       "    <tr>\n",
       "      <th>2021-10-19</th>\n",
       "      <td>267.850006</td>\n",
       "      <td>221.5</td>\n",
       "      <td>266.0</td>\n",
       "      <td>229.75</td>\n",
       "      <td>245771135.0</td>\n",
       "      <td>229.75</td>\n",
       "    </tr>\n",
       "  </tbody>\n",
       "</table>\n",
       "</div>"
      ],
      "text/plain": [
       "                  High    Low   Open   Close       Volume  Adj Close\n",
       "Date                                                                \n",
       "2021-10-19  267.850006  221.5  266.0  229.75  245771135.0     229.75"
      ]
     },
     "execution_count": 12,
     "metadata": {},
     "output_type": "execute_result"
    }
   ],
   "source": [
    "Tata_Power.loc[Tata_Power['Open']>=260]"
   ]
  },
  {
   "cell_type": "code",
   "execution_count": 13,
   "id": "522a6eaf-9eba-486b-9f65-7dcddb6e4ff8",
   "metadata": {},
   "outputs": [
    {
     "data": {
      "text/html": [
       "<div>\n",
       "<style scoped>\n",
       "    .dataframe tbody tr th:only-of-type {\n",
       "        vertical-align: middle;\n",
       "    }\n",
       "\n",
       "    .dataframe tbody tr th {\n",
       "        vertical-align: top;\n",
       "    }\n",
       "\n",
       "    .dataframe thead th {\n",
       "        text-align: right;\n",
       "    }\n",
       "</style>\n",
       "<table border=\"1\" class=\"dataframe\">\n",
       "  <thead>\n",
       "    <tr style=\"text-align: right;\">\n",
       "      <th></th>\n",
       "      <th>High</th>\n",
       "      <th>Low</th>\n",
       "      <th>Open</th>\n",
       "      <th>Close</th>\n",
       "      <th>Volume</th>\n",
       "      <th>Adj Close</th>\n",
       "    </tr>\n",
       "    <tr>\n",
       "      <th>Date</th>\n",
       "      <th></th>\n",
       "      <th></th>\n",
       "      <th></th>\n",
       "      <th></th>\n",
       "      <th></th>\n",
       "      <th></th>\n",
       "    </tr>\n",
       "  </thead>\n",
       "  <tbody>\n",
       "    <tr>\n",
       "      <th>2020-05-12</th>\n",
       "      <td>28.6</td>\n",
       "      <td>27.0</td>\n",
       "      <td>27.25</td>\n",
       "      <td>28.4</td>\n",
       "      <td>27226330.0</td>\n",
       "      <td>27.174801</td>\n",
       "    </tr>\n",
       "  </tbody>\n",
       "</table>\n",
       "</div>"
      ],
      "text/plain": [
       "            High   Low   Open  Close      Volume  Adj Close\n",
       "Date                                                       \n",
       "2020-05-12  28.6  27.0  27.25   28.4  27226330.0  27.174801"
      ]
     },
     "execution_count": 13,
     "metadata": {},
     "output_type": "execute_result"
    }
   ],
   "source": [
    "Tata_Power.loc[Tata_Power['Open']<=28]"
   ]
  },
  {
   "cell_type": "markdown",
   "id": "4d0ce43c-ed86-4e17-9440-f16937ff24f0",
   "metadata": {},
   "source": [
    "# **Step2:- Visulisation**"
   ]
  },
  {
   "cell_type": "markdown",
   "id": "d5081872-0dc9-4dd0-86ba-a966f8b37e94",
   "metadata": {},
   "source": [
    "**Correlation**"
   ]
  },
  {
   "cell_type": "code",
   "execution_count": 14,
   "id": "12fe9d88-638f-46be-bd44-0501ec5e4c14",
   "metadata": {},
   "outputs": [
    {
     "data": {
      "text/html": [
       "<div>\n",
       "<style scoped>\n",
       "    .dataframe tbody tr th:only-of-type {\n",
       "        vertical-align: middle;\n",
       "    }\n",
       "\n",
       "    .dataframe tbody tr th {\n",
       "        vertical-align: top;\n",
       "    }\n",
       "\n",
       "    .dataframe thead th {\n",
       "        text-align: right;\n",
       "    }\n",
       "</style>\n",
       "<table border=\"1\" class=\"dataframe\">\n",
       "  <thead>\n",
       "    <tr style=\"text-align: right;\">\n",
       "      <th></th>\n",
       "      <th>High</th>\n",
       "      <th>Low</th>\n",
       "      <th>Open</th>\n",
       "      <th>Close</th>\n",
       "      <th>Volume</th>\n",
       "      <th>Adj Close</th>\n",
       "    </tr>\n",
       "  </thead>\n",
       "  <tbody>\n",
       "    <tr>\n",
       "      <th>High</th>\n",
       "      <td>1.000000</td>\n",
       "      <td>0.997658</td>\n",
       "      <td>0.998462</td>\n",
       "      <td>0.998877</td>\n",
       "      <td>0.355015</td>\n",
       "      <td>0.969279</td>\n",
       "    </tr>\n",
       "    <tr>\n",
       "      <th>Low</th>\n",
       "      <td>0.997658</td>\n",
       "      <td>1.000000</td>\n",
       "      <td>0.998268</td>\n",
       "      <td>0.998700</td>\n",
       "      <td>0.317738</td>\n",
       "      <td>0.965737</td>\n",
       "    </tr>\n",
       "    <tr>\n",
       "      <th>Open</th>\n",
       "      <td>0.998462</td>\n",
       "      <td>0.998268</td>\n",
       "      <td>1.000000</td>\n",
       "      <td>0.997267</td>\n",
       "      <td>0.331221</td>\n",
       "      <td>0.966212</td>\n",
       "    </tr>\n",
       "    <tr>\n",
       "      <th>Close</th>\n",
       "      <td>0.998877</td>\n",
       "      <td>0.998700</td>\n",
       "      <td>0.997267</td>\n",
       "      <td>1.000000</td>\n",
       "      <td>0.340262</td>\n",
       "      <td>0.968754</td>\n",
       "    </tr>\n",
       "    <tr>\n",
       "      <th>Volume</th>\n",
       "      <td>0.355015</td>\n",
       "      <td>0.317738</td>\n",
       "      <td>0.331221</td>\n",
       "      <td>0.340262</td>\n",
       "      <td>1.000000</td>\n",
       "      <td>0.465624</td>\n",
       "    </tr>\n",
       "    <tr>\n",
       "      <th>Adj Close</th>\n",
       "      <td>0.969279</td>\n",
       "      <td>0.965737</td>\n",
       "      <td>0.966212</td>\n",
       "      <td>0.968754</td>\n",
       "      <td>0.465624</td>\n",
       "      <td>1.000000</td>\n",
       "    </tr>\n",
       "  </tbody>\n",
       "</table>\n",
       "</div>"
      ],
      "text/plain": [
       "               High       Low      Open     Close    Volume  Adj Close\n",
       "High       1.000000  0.997658  0.998462  0.998877  0.355015   0.969279\n",
       "Low        0.997658  1.000000  0.998268  0.998700  0.317738   0.965737\n",
       "Open       0.998462  0.998268  1.000000  0.997267  0.331221   0.966212\n",
       "Close      0.998877  0.998700  0.997267  1.000000  0.340262   0.968754\n",
       "Volume     0.355015  0.317738  0.331221  0.340262  1.000000   0.465624\n",
       "Adj Close  0.969279  0.965737  0.966212  0.968754  0.465624   1.000000"
      ]
     },
     "execution_count": 14,
     "metadata": {},
     "output_type": "execute_result"
    }
   ],
   "source": [
    "Tata_Power.corr(method='pearson', min_periods=1)"
   ]
  },
  {
   "cell_type": "code",
   "execution_count": 15,
   "id": "733738e6-ae95-4bf6-88fc-bb8cc2e41716",
   "metadata": {},
   "outputs": [
    {
     "data": {
      "text/plain": [
       "<AxesSubplot:>"
      ]
     },
     "execution_count": 15,
     "metadata": {},
     "output_type": "execute_result"
    },
    {
     "data": {
      "image/png": "[encoded data removed]",
      "text/plain": [
       "<Figure size 432x288 with 2 Axes>"
      ]
     },
     "metadata": {
      "needs_background": "light"
     },
     "output_type": "display_data"
    }
   ],
   "source": [
    "import seaborn as sns\n",
    "sns.heatmap(Tata_Power.corr(),annot=True)"
   ]
  },
  {
   "cell_type": "markdown",
   "id": "f2b5573d-58b0-4427-8b79-3cf1f441d5d4",
   "metadata": {},
   "source": [
    "**A time series tracks the movement of stock price, over a specified period of time.**"
   ]
  },
  {
   "cell_type": "code",
   "execution_count": 16,
   "id": "70408913-acda-4bc5-bffd-28071bf8b3a1",
   "metadata": {},
   "outputs": [],
   "source": [
    "import matplotlib.pyplot as plt\n",
    "%matplotlib inline\n",
    "import matplotlib.dates as mdates\n",
    "from matplotlib import style"
   ]
  },
  {
   "cell_type": "code",
   "execution_count": 17,
   "id": "df7ea1c7-f928-4337-808d-e6b73bc56f0c",
   "metadata": {},
   "outputs": [
    {
     "data": {
      "text/plain": [
       "DatetimeIndex(['2011-01-03', '2011-01-04', '2011-01-05', '2011-01-06',\n",
       "               '2011-01-07', '2011-01-10', '2011-01-11', '2011-01-12',\n",
       "               '2011-01-13', '2011-01-14',\n",
       "               ...\n",
       "               '2021-12-20', '2021-12-21', '2021-12-22', '2021-12-23',\n",
       "               '2021-12-24', '2021-12-27', '2021-12-28', '2021-12-29',\n",
       "               '2021-12-30', '2021-12-31'],\n",
       "              dtype='datetime64[ns]', name='Date', length=2711, freq=None)"
      ]
     },
     "execution_count": 17,
     "metadata": {},
     "output_type": "execute_result"
    }
   ],
   "source": [
    "Tata_Power.index"
   ]
  },
  {
   "cell_type": "code",
   "execution_count": 18,
   "id": "f67c8d36-72c5-451b-b7bd-1ca1eb6c2865",
   "metadata": {},
   "outputs": [
    {
     "data": {
      "image/png": "[encoded data removed]",
      "text/plain": [
       "<Figure size 432x288 with 1 Axes>"
      ]
     },
     "metadata": {
      "needs_background": "light"
     },
     "output_type": "display_data"
    }
   ],
   "source": [
    "plt.plot(Tata_Power.index, Tata_Power['Adj Close'])\n",
    "plt.title('Tata Power')\n",
    "plt.ylabel('Adjusted Closing Price')\n",
    "plt.gca().xaxis.set_major_formatter(mdates.DateFormatter('%Y'))\n",
    "plt.gca().xaxis.set_major_locator(mdates.YearLocator())\n",
    "plt.grid(True)\n",
    "plt.xticks(rotation=90)\n",
    "plt.show()"
   ]
  },
  {
   "cell_type": "markdown",
   "id": "f8fd1604-a035-4fcc-a468-63b98ea2835c",
   "metadata": {},
   "source": [
    "**Perticular Year**"
   ]
  },
  {
   "cell_type": "code",
   "execution_count": 19,
   "id": "eafe8f30-6dff-4f0a-939a-38af5a83a1d6",
   "metadata": {},
   "outputs": [
    {
     "data": {
      "image/png": "[encoded data removed]",
      "text/plain": [
       "<Figure size 432x288 with 1 Axes>"
      ]
     },
     "metadata": {
      "needs_background": "light"
     },
     "output_type": "display_data"
    }
   ],
   "source": [
    "Tata_Power = Tata_Power.loc[pd.Timestamp('2021-01-01'):pd.Timestamp('2021-12-31')]\n",
    "plt.plot(Tata_Power.index, Tata_Power['Adj Close'])\n",
    "plt.title('Tata Power')\n",
    "plt.ylabel('Adjusted Closing Price')\n",
    "plt.grid(True)\n",
    "plt.gca().xaxis.set_major_formatter(mdates.DateFormatter('%Y-%m'))\n",
    "plt.gca().xaxis.set_major_locator(mdates.MonthLocator())\n",
    "plt.xticks(rotation=90)\n",
    "plt.show()"
   ]
  },
  {
   "cell_type": "markdown",
   "id": "aa5a9b52-4330-4978-84ef-0fea372607d2",
   "metadata": {},
   "source": [
    "**Quaterly**"
   ]
  },
  {
   "cell_type": "code",
   "execution_count": 20,
   "id": "81e9577f-95ff-4f84-a23e-d22f5230e3e7",
   "metadata": {},
   "outputs": [
    {
     "data": {
      "text/html": [
       "<div>\n",
       "<style scoped>\n",
       "    .dataframe tbody tr th:only-of-type {\n",
       "        vertical-align: middle;\n",
       "    }\n",
       "\n",
       "    .dataframe tbody tr th {\n",
       "        vertical-align: top;\n",
       "    }\n",
       "\n",
       "    .dataframe thead th {\n",
       "        text-align: right;\n",
       "    }\n",
       "</style>\n",
       "<table border=\"1\" class=\"dataframe\">\n",
       "  <thead>\n",
       "    <tr style=\"text-align: right;\">\n",
       "      <th></th>\n",
       "      <th>High</th>\n",
       "      <th>Low</th>\n",
       "      <th>Open</th>\n",
       "      <th>Close</th>\n",
       "      <th>Volume</th>\n",
       "      <th>Adj Close</th>\n",
       "    </tr>\n",
       "    <tr>\n",
       "      <th>Date</th>\n",
       "      <th></th>\n",
       "      <th></th>\n",
       "      <th></th>\n",
       "      <th></th>\n",
       "      <th></th>\n",
       "      <th></th>\n",
       "    </tr>\n",
       "  </thead>\n",
       "  <tbody>\n",
       "    <tr>\n",
       "      <th>2021-01-31</th>\n",
       "      <td>83.625000</td>\n",
       "      <td>80.242500</td>\n",
       "      <td>82.367500</td>\n",
       "      <td>81.710000</td>\n",
       "      <td>3.407575e+07</td>\n",
       "      <td>80.704439</td>\n",
       "    </tr>\n",
       "    <tr>\n",
       "      <th>2021-05-31</th>\n",
       "      <td>101.500000</td>\n",
       "      <td>97.435000</td>\n",
       "      <td>99.581250</td>\n",
       "      <td>99.475625</td>\n",
       "      <td>5.318294e+07</td>\n",
       "      <td>98.251433</td>\n",
       "    </tr>\n",
       "    <tr>\n",
       "      <th>2021-09-30</th>\n",
       "      <td>129.677647</td>\n",
       "      <td>125.380588</td>\n",
       "      <td>127.509412</td>\n",
       "      <td>127.553530</td>\n",
       "      <td>4.061584e+07</td>\n",
       "      <td>127.349474</td>\n",
       "    </tr>\n",
       "    <tr>\n",
       "      <th>2022-01-31</th>\n",
       "      <td>226.508729</td>\n",
       "      <td>215.867461</td>\n",
       "      <td>221.606349</td>\n",
       "      <td>221.110318</td>\n",
       "      <td>7.437335e+07</td>\n",
       "      <td>221.110318</td>\n",
       "    </tr>\n",
       "  </tbody>\n",
       "</table>\n",
       "</div>"
      ],
      "text/plain": [
       "                  High         Low        Open       Close        Volume  \\\n",
       "Date                                                                       \n",
       "2021-01-31   83.625000   80.242500   82.367500   81.710000  3.407575e+07   \n",
       "2021-05-31  101.500000   97.435000   99.581250   99.475625  5.318294e+07   \n",
       "2021-09-30  129.677647  125.380588  127.509412  127.553530  4.061584e+07   \n",
       "2022-01-31  226.508729  215.867461  221.606349  221.110318  7.437335e+07   \n",
       "\n",
       "             Adj Close  \n",
       "Date                    \n",
       "2021-01-31   80.704439  \n",
       "2021-05-31   98.251433  \n",
       "2021-09-30  127.349474  \n",
       "2022-01-31  221.110318  "
      ]
     },
     "execution_count": 20,
     "metadata": {},
     "output_type": "execute_result"
    }
   ],
   "source": [
    "Monthly_Tata_Power = Tata_Power.resample('4M').mean()\n",
    "Monthly_Tata_Power"
   ]
  },
  {
   "cell_type": "code",
   "execution_count": 21,
   "id": "68ef51b0-5582-492e-a191-470d5f329d1c",
   "metadata": {},
   "outputs": [
    {
     "data": {
      "image/png": "[encoded data removed]",
      "text/plain": [
       "<Figure size 432x288 with 1 Axes>"
      ]
     },
     "metadata": {
      "needs_background": "light"
     },
     "output_type": "display_data"
    }
   ],
   "source": [
    "Monthly_Tata_Power = Tata_Power.resample('4M').mean()\n",
    "plt.scatter(Monthly_Tata_Power.index, Monthly_Tata_Power['Adj Close'])\n",
    "plt.title('Tata Power')\n",
    "plt.ylabel('Adjusted Closing Price')\n",
    "plt.grid(True)\n",
    "plt.gca().xaxis.set_major_formatter(mdates.DateFormatter('%Y-%m'))\n",
    "plt.gca().xaxis.set_major_locator(mdates.MonthLocator())\n",
    "plt.xticks(rotation=90)\n",
    "plt.show()"
   ]
  },
  {
   "cell_type": "markdown",
   "id": "e0fb7f7f-0eaa-4c71-b1f7-f047cd789b5c",
   "metadata": {},
   "source": [
    "**Weekly**"
   ]
  },
  {
   "cell_type": "code",
   "execution_count": 22,
   "id": "da4b8583-9ebe-42de-b1be-3afeaa292d64",
   "metadata": {},
   "outputs": [
    {
     "data": {
      "text/html": [
       "<div>\n",
       "<style scoped>\n",
       "    .dataframe tbody tr th:only-of-type {\n",
       "        vertical-align: middle;\n",
       "    }\n",
       "\n",
       "    .dataframe tbody tr th {\n",
       "        vertical-align: top;\n",
       "    }\n",
       "\n",
       "    .dataframe thead th {\n",
       "        text-align: right;\n",
       "    }\n",
       "</style>\n",
       "<table border=\"1\" class=\"dataframe\">\n",
       "  <thead>\n",
       "    <tr style=\"text-align: right;\">\n",
       "      <th></th>\n",
       "      <th>High</th>\n",
       "      <th>Low</th>\n",
       "      <th>Open</th>\n",
       "      <th>Close</th>\n",
       "      <th>Volume</th>\n",
       "      <th>Adj Close</th>\n",
       "    </tr>\n",
       "    <tr>\n",
       "      <th>Date</th>\n",
       "      <th></th>\n",
       "      <th></th>\n",
       "      <th></th>\n",
       "      <th></th>\n",
       "      <th></th>\n",
       "      <th></th>\n",
       "    </tr>\n",
       "  </thead>\n",
       "  <tbody>\n",
       "    <tr>\n",
       "      <th>2021-01-15</th>\n",
       "      <td>88.000000</td>\n",
       "      <td>84.349998</td>\n",
       "      <td>86.400002</td>\n",
       "      <td>85.550003</td>\n",
       "      <td>35416980.0</td>\n",
       "      <td>84.497185</td>\n",
       "    </tr>\n",
       "    <tr>\n",
       "      <th>2021-01-18</th>\n",
       "      <td>85.849998</td>\n",
       "      <td>81.000000</td>\n",
       "      <td>85.849998</td>\n",
       "      <td>82.099998</td>\n",
       "      <td>31480725.0</td>\n",
       "      <td>81.089638</td>\n",
       "    </tr>\n",
       "    <tr>\n",
       "      <th>2021-01-19</th>\n",
       "      <td>85.699997</td>\n",
       "      <td>82.599998</td>\n",
       "      <td>82.750000</td>\n",
       "      <td>85.400002</td>\n",
       "      <td>25469132.0</td>\n",
       "      <td>84.349030</td>\n",
       "    </tr>\n",
       "    <tr>\n",
       "      <th>2021-01-20</th>\n",
       "      <td>86.449997</td>\n",
       "      <td>84.150002</td>\n",
       "      <td>85.599998</td>\n",
       "      <td>84.800003</td>\n",
       "      <td>19476831.0</td>\n",
       "      <td>83.756416</td>\n",
       "    </tr>\n",
       "    <tr>\n",
       "      <th>2021-01-21</th>\n",
       "      <td>85.699997</td>\n",
       "      <td>82.199997</td>\n",
       "      <td>85.500000</td>\n",
       "      <td>83.000000</td>\n",
       "      <td>16889392.0</td>\n",
       "      <td>81.978561</td>\n",
       "    </tr>\n",
       "    <tr>\n",
       "      <th>...</th>\n",
       "      <td>...</td>\n",
       "      <td>...</td>\n",
       "      <td>...</td>\n",
       "      <td>...</td>\n",
       "      <td>...</td>\n",
       "      <td>...</td>\n",
       "    </tr>\n",
       "    <tr>\n",
       "      <th>2021-12-27</th>\n",
       "      <td>217.750000</td>\n",
       "      <td>213.800003</td>\n",
       "      <td>216.600006</td>\n",
       "      <td>217.350006</td>\n",
       "      <td>15870056.0</td>\n",
       "      <td>217.350006</td>\n",
       "    </tr>\n",
       "    <tr>\n",
       "      <th>2021-12-28</th>\n",
       "      <td>222.199997</td>\n",
       "      <td>218.500000</td>\n",
       "      <td>218.699997</td>\n",
       "      <td>221.600006</td>\n",
       "      <td>19058757.0</td>\n",
       "      <td>221.600006</td>\n",
       "    </tr>\n",
       "    <tr>\n",
       "      <th>2021-12-29</th>\n",
       "      <td>223.250000</td>\n",
       "      <td>218.850006</td>\n",
       "      <td>221.000000</td>\n",
       "      <td>219.449997</td>\n",
       "      <td>14504319.0</td>\n",
       "      <td>219.449997</td>\n",
       "    </tr>\n",
       "    <tr>\n",
       "      <th>2021-12-30</th>\n",
       "      <td>221.000000</td>\n",
       "      <td>217.050003</td>\n",
       "      <td>218.699997</td>\n",
       "      <td>218.350006</td>\n",
       "      <td>14315067.0</td>\n",
       "      <td>218.350006</td>\n",
       "    </tr>\n",
       "    <tr>\n",
       "      <th>2021-12-31</th>\n",
       "      <td>222.000000</td>\n",
       "      <td>218.350006</td>\n",
       "      <td>218.899994</td>\n",
       "      <td>220.949997</td>\n",
       "      <td>12737974.0</td>\n",
       "      <td>220.949997</td>\n",
       "    </tr>\n",
       "  </tbody>\n",
       "</table>\n",
       "<p>238 rows × 6 columns</p>\n",
       "</div>"
      ],
      "text/plain": [
       "                  High         Low        Open       Close      Volume  \\\n",
       "Date                                                                     \n",
       "2021-01-15   88.000000   84.349998   86.400002   85.550003  35416980.0   \n",
       "2021-01-18   85.849998   81.000000   85.849998   82.099998  31480725.0   \n",
       "2021-01-19   85.699997   82.599998   82.750000   85.400002  25469132.0   \n",
       "2021-01-20   86.449997   84.150002   85.599998   84.800003  19476831.0   \n",
       "2021-01-21   85.699997   82.199997   85.500000   83.000000  16889392.0   \n",
       "...                ...         ...         ...         ...         ...   \n",
       "2021-12-27  217.750000  213.800003  216.600006  217.350006  15870056.0   \n",
       "2021-12-28  222.199997  218.500000  218.699997  221.600006  19058757.0   \n",
       "2021-12-29  223.250000  218.850006  221.000000  219.449997  14504319.0   \n",
       "2021-12-30  221.000000  217.050003  218.699997  218.350006  14315067.0   \n",
       "2021-12-31  222.000000  218.350006  218.899994  220.949997  12737974.0   \n",
       "\n",
       "             Adj Close  \n",
       "Date                    \n",
       "2021-01-15   84.497185  \n",
       "2021-01-18   81.089638  \n",
       "2021-01-19   84.349030  \n",
       "2021-01-20   83.756416  \n",
       "2021-01-21   81.978561  \n",
       "...                ...  \n",
       "2021-12-27  217.350006  \n",
       "2021-12-28  221.600006  \n",
       "2021-12-29  219.449997  \n",
       "2021-12-30  218.350006  \n",
       "2021-12-31  220.949997  \n",
       "\n",
       "[238 rows x 6 columns]"
      ]
     },
     "execution_count": 22,
     "metadata": {},
     "output_type": "execute_result"
    }
   ],
   "source": [
    "Tata_Power_21 = Tata_Power.loc[pd.Timestamp('2021-01-15'):pd.Timestamp('2021-12-31')]\n",
    "Tata_Power_21"
   ]
  },
  {
   "cell_type": "code",
   "execution_count": 23,
   "id": "5eb6bace-8601-453a-ad27-2d1fe19d7da5",
   "metadata": {},
   "outputs": [
    {
     "data": {
      "text/html": [
       "<div>\n",
       "<style scoped>\n",
       "    .dataframe tbody tr th:only-of-type {\n",
       "        vertical-align: middle;\n",
       "    }\n",
       "\n",
       "    .dataframe tbody tr th {\n",
       "        vertical-align: top;\n",
       "    }\n",
       "\n",
       "    .dataframe thead th {\n",
       "        text-align: right;\n",
       "    }\n",
       "</style>\n",
       "<table border=\"1\" class=\"dataframe\">\n",
       "  <thead>\n",
       "    <tr style=\"text-align: right;\">\n",
       "      <th></th>\n",
       "      <th>High</th>\n",
       "      <th>Low</th>\n",
       "      <th>Open</th>\n",
       "      <th>Close</th>\n",
       "      <th>Volume</th>\n",
       "      <th>Adj Close</th>\n",
       "    </tr>\n",
       "    <tr>\n",
       "      <th>Date</th>\n",
       "      <th></th>\n",
       "      <th></th>\n",
       "      <th></th>\n",
       "      <th></th>\n",
       "      <th></th>\n",
       "      <th></th>\n",
       "    </tr>\n",
       "  </thead>\n",
       "  <tbody>\n",
       "    <tr>\n",
       "      <th>2021-01-17</th>\n",
       "      <td>88.000000</td>\n",
       "      <td>84.349998</td>\n",
       "      <td>86.400002</td>\n",
       "      <td>85.550003</td>\n",
       "      <td>35416980.00</td>\n",
       "      <td>84.497185</td>\n",
       "    </tr>\n",
       "    <tr>\n",
       "      <th>2021-01-24</th>\n",
       "      <td>85.359998</td>\n",
       "      <td>81.579999</td>\n",
       "      <td>84.520000</td>\n",
       "      <td>82.940001</td>\n",
       "      <td>27250053.00</td>\n",
       "      <td>81.919302</td>\n",
       "    </tr>\n",
       "    <tr>\n",
       "      <th>2021-01-31</th>\n",
       "      <td>80.075001</td>\n",
       "      <td>75.775000</td>\n",
       "      <td>79.300001</td>\n",
       "      <td>76.924999</td>\n",
       "      <td>42804623.25</td>\n",
       "      <td>75.978323</td>\n",
       "    </tr>\n",
       "    <tr>\n",
       "      <th>2021-02-07</th>\n",
       "      <td>86.589999</td>\n",
       "      <td>81.170000</td>\n",
       "      <td>83.689999</td>\n",
       "      <td>84.949998</td>\n",
       "      <td>65739867.40</td>\n",
       "      <td>83.904565</td>\n",
       "    </tr>\n",
       "    <tr>\n",
       "      <th>2021-02-14</th>\n",
       "      <td>89.939999</td>\n",
       "      <td>86.759999</td>\n",
       "      <td>88.580000</td>\n",
       "      <td>88.070001</td>\n",
       "      <td>40325266.40</td>\n",
       "      <td>86.986171</td>\n",
       "    </tr>\n",
       "  </tbody>\n",
       "</table>\n",
       "</div>"
      ],
      "text/plain": [
       "                 High        Low       Open      Close       Volume  Adj Close\n",
       "Date                                                                          \n",
       "2021-01-17  88.000000  84.349998  86.400002  85.550003  35416980.00  84.497185\n",
       "2021-01-24  85.359998  81.579999  84.520000  82.940001  27250053.00  81.919302\n",
       "2021-01-31  80.075001  75.775000  79.300001  76.924999  42804623.25  75.978323\n",
       "2021-02-07  86.589999  81.170000  83.689999  84.949998  65739867.40  83.904565\n",
       "2021-02-14  89.939999  86.759999  88.580000  88.070001  40325266.40  86.986171"
      ]
     },
     "execution_count": 23,
     "metadata": {},
     "output_type": "execute_result"
    }
   ],
   "source": [
    "weekly_Tata_Power_21 = Tata_Power_21.resample('W').mean()\n",
    "weekly_Tata_Power_21.head()"
   ]
  },
  {
   "cell_type": "code",
   "execution_count": 24,
   "id": "2c90f621-f665-40f2-b70f-10d2b2d2c795",
   "metadata": {},
   "outputs": [
    {
     "data": {
      "image/png": "[encoded data removed]",
      "text/plain": [
       "<Figure size 432x288 with 1 Axes>"
      ]
     },
     "metadata": {
      "needs_background": "light"
     },
     "output_type": "display_data"
    }
   ],
   "source": [
    "plt.plot(weekly_Tata_Power_21.index, weekly_Tata_Power_21['Adj Close'], '-*')\n",
    "plt.title('Tata Power')\n",
    "plt.ylabel('Adjusted Closing Price')\n",
    "plt.grid(True)\n",
    "plt.gca().xaxis.set_major_formatter(mdates.DateFormatter('%Y-%m-%d'))\n",
    "plt.gca().xaxis.set_major_locator(mdates.MonthLocator())\n",
    "plt.xticks(rotation=90)\n",
    "plt.show()"
   ]
  },
  {
   "cell_type": "markdown",
   "id": "798d502e-796e-4364-8287-175803ad5067",
   "metadata": {},
   "source": [
    "**Daily Changes in Percentage**"
   ]
  },
  {
   "cell_type": "code",
   "execution_count": 25,
   "id": "cabc4437-b7c6-4777-8280-d6ba7c3e4e18",
   "metadata": {},
   "outputs": [
    {
     "data": {
      "text/html": [
       "<div>\n",
       "<style scoped>\n",
       "    .dataframe tbody tr th:only-of-type {\n",
       "        vertical-align: middle;\n",
       "    }\n",
       "\n",
       "    .dataframe tbody tr th {\n",
       "        vertical-align: top;\n",
       "    }\n",
       "\n",
       "    .dataframe thead th {\n",
       "        text-align: right;\n",
       "    }\n",
       "</style>\n",
       "<table border=\"1\" class=\"dataframe\">\n",
       "  <thead>\n",
       "    <tr style=\"text-align: right;\">\n",
       "      <th></th>\n",
       "      <th>Adj Close</th>\n",
       "    </tr>\n",
       "    <tr>\n",
       "      <th>Date</th>\n",
       "      <th></th>\n",
       "    </tr>\n",
       "  </thead>\n",
       "  <tbody>\n",
       "    <tr>\n",
       "      <th>2021-01-01</th>\n",
       "      <td>NaN</td>\n",
       "    </tr>\n",
       "    <tr>\n",
       "      <th>2021-01-04</th>\n",
       "      <td>0.024564</td>\n",
       "    </tr>\n",
       "    <tr>\n",
       "      <th>2021-01-05</th>\n",
       "      <td>0.023975</td>\n",
       "    </tr>\n",
       "    <tr>\n",
       "      <th>2021-01-06</th>\n",
       "      <td>0.016020</td>\n",
       "    </tr>\n",
       "    <tr>\n",
       "      <th>2021-01-07</th>\n",
       "      <td>-0.007277</td>\n",
       "    </tr>\n",
       "    <tr>\n",
       "      <th>...</th>\n",
       "      <td>...</td>\n",
       "    </tr>\n",
       "    <tr>\n",
       "      <th>2021-12-27</th>\n",
       "      <td>0.002537</td>\n",
       "    </tr>\n",
       "    <tr>\n",
       "      <th>2021-12-28</th>\n",
       "      <td>0.019554</td>\n",
       "    </tr>\n",
       "    <tr>\n",
       "      <th>2021-12-29</th>\n",
       "      <td>-0.009702</td>\n",
       "    </tr>\n",
       "    <tr>\n",
       "      <th>2021-12-30</th>\n",
       "      <td>-0.005012</td>\n",
       "    </tr>\n",
       "    <tr>\n",
       "      <th>2021-12-31</th>\n",
       "      <td>0.011907</td>\n",
       "    </tr>\n",
       "  </tbody>\n",
       "</table>\n",
       "<p>248 rows × 1 columns</p>\n",
       "</div>"
      ],
      "text/plain": [
       "            Adj Close\n",
       "Date                 \n",
       "2021-01-01        NaN\n",
       "2021-01-04   0.024564\n",
       "2021-01-05   0.023975\n",
       "2021-01-06   0.016020\n",
       "2021-01-07  -0.007277\n",
       "...               ...\n",
       "2021-12-27   0.002537\n",
       "2021-12-28   0.019554\n",
       "2021-12-29  -0.009702\n",
       "2021-12-30  -0.005012\n",
       "2021-12-31   0.011907\n",
       "\n",
       "[248 rows x 1 columns]"
      ]
     },
     "execution_count": 25,
     "metadata": {},
     "output_type": "execute_result"
    }
   ],
   "source": [
    "daily_close_Tata_Power =Tata_Power[['Adj Close']]\n",
    "#Daily returns\n",
    "daily_pct_change_Tata_Power = daily_close_Tata_Power.pct_change()\n",
    "daily_pct_change_Tata_Power"
   ]
  },
  {
   "cell_type": "code",
   "execution_count": 26,
   "id": "76eb14e8-c780-4618-b8ce-3265c76dfc2d",
   "metadata": {},
   "outputs": [
    {
     "data": {
      "text/plain": [
       "Adj Close    1\n",
       "dtype: int64"
      ]
     },
     "execution_count": 26,
     "metadata": {},
     "output_type": "execute_result"
    }
   ],
   "source": [
    "daily_pct_change_Tata_Power.isnull().sum()"
   ]
  },
  {
   "cell_type": "code",
   "execution_count": 27,
   "id": "8bcae796-14bb-44ed-a213-6d453b1ef462",
   "metadata": {},
   "outputs": [
    {
     "data": {
      "text/html": [
       "<div>\n",
       "<style scoped>\n",
       "    .dataframe tbody tr th:only-of-type {\n",
       "        vertical-align: middle;\n",
       "    }\n",
       "\n",
       "    .dataframe tbody tr th {\n",
       "        vertical-align: top;\n",
       "    }\n",
       "\n",
       "    .dataframe thead th {\n",
       "        text-align: right;\n",
       "    }\n",
       "</style>\n",
       "<table border=\"1\" class=\"dataframe\">\n",
       "  <thead>\n",
       "    <tr style=\"text-align: right;\">\n",
       "      <th></th>\n",
       "      <th>Adj Close</th>\n",
       "    </tr>\n",
       "    <tr>\n",
       "      <th>Date</th>\n",
       "      <th></th>\n",
       "    </tr>\n",
       "  </thead>\n",
       "  <tbody>\n",
       "    <tr>\n",
       "      <th>2021-01-01</th>\n",
       "      <td>0.000000</td>\n",
       "    </tr>\n",
       "    <tr>\n",
       "      <th>2021-01-04</th>\n",
       "      <td>0.024564</td>\n",
       "    </tr>\n",
       "    <tr>\n",
       "      <th>2021-01-05</th>\n",
       "      <td>0.023975</td>\n",
       "    </tr>\n",
       "    <tr>\n",
       "      <th>2021-01-06</th>\n",
       "      <td>0.016020</td>\n",
       "    </tr>\n",
       "    <tr>\n",
       "      <th>2021-01-07</th>\n",
       "      <td>-0.007277</td>\n",
       "    </tr>\n",
       "  </tbody>\n",
       "</table>\n",
       "</div>"
      ],
      "text/plain": [
       "            Adj Close\n",
       "Date                 \n",
       "2021-01-01   0.000000\n",
       "2021-01-04   0.024564\n",
       "2021-01-05   0.023975\n",
       "2021-01-06   0.016020\n",
       "2021-01-07  -0.007277"
      ]
     },
     "execution_count": 27,
     "metadata": {},
     "output_type": "execute_result"
    }
   ],
   "source": [
    "# Replace NA values with 0\n",
    "daily_pct_change_Tata_Power.fillna(0, inplace=True)\n",
    "daily_pct_change_Tata_Power.head()"
   ]
  },
  {
   "cell_type": "code",
   "execution_count": 28,
   "id": "1ee1d4c8-21ea-40a7-9b48-3dcabe8b7642",
   "metadata": {},
   "outputs": [
    {
     "data": {
      "image/png": "[encoded data removed]",
      "text/plain": [
       "<Figure size 432x288 with 1 Axes>"
      ]
     },
     "metadata": {
      "needs_background": "light"
     },
     "output_type": "display_data"
    }
   ],
   "source": [
    "daily_pct_change_Tata_Power.hist(bins=50)\n",
    "plt.show()"
   ]
  },
  {
   "cell_type": "code",
   "execution_count": 29,
   "id": "287ac29d-2b85-4643-933d-5b8abf363b4f",
   "metadata": {},
   "outputs": [],
   "source": [
    "import seaborn as sns\n",
    "sns.set()"
   ]
  },
  {
   "cell_type": "code",
   "execution_count": 30,
   "id": "802987ca-899a-421e-b1b9-766f58e92c8f",
   "metadata": {},
   "outputs": [
    {
     "name": "stderr",
     "output_type": "stream",
     "text": [
      "E:\\Python\\New folder\\lib\\site-packages\\seaborn\\distributions.py:2557: FutureWarning: `distplot` is a deprecated function and will be removed in a future version. Please adapt your code to use either `displot` (a figure-level function with similar flexibility) or `histplot` (an axes-level function for histograms).\n",
      "  warnings.warn(msg, FutureWarning)\n"
     ]
    },
    {
     "data": {
      "image/png": "[encoded data removed]",
      "text/plain": [
       "<Figure size 504x360 with 1 Axes>"
      ]
     },
     "metadata": {},
     "output_type": "display_data"
    }
   ],
   "source": [
    "# Set up the matplotlib figure\n",
    "f, axes = plt.subplots( figsize=(7, 5))\n",
    "# Plot a simple histogram with binsize determined automatically\n",
    "sns.distplot(daily_pct_change_Tata_Power['Adj Close'], color=\"b\", axlabel='Tata Power');"
   ]
  },
  {
   "cell_type": "markdown",
   "id": "702bc9e1-e4c1-4209-ba4e-25ebdbc5d922",
   "metadata": {},
   "source": [
    "# **Analysis Using 44 and 100 Days Moving Average**"
   ]
  },
  {
   "cell_type": "code",
   "execution_count": 34,
   "id": "6ba09a28-57e4-4af4-82e2-ce6e688c93fc",
   "metadata": {},
   "outputs": [
    {
     "data": {
      "image/png": "[encoded data removed]",
      "text/plain": [
       "<Figure size 432x288 with 1 Axes>"
      ]
     },
     "metadata": {},
     "output_type": "display_data"
    }
   ],
   "source": [
    "Tata_Power_adj_close_ma =Tata_Power['Adj Close']\n",
    "Tata_Power['44'] = Tata_Power_adj_close_ma.rolling(window=44).mean()\n",
    "Tata_Power['100'] = Tata_Power_adj_close_ma.rolling(window=100).mean()\n",
    "# Plot the adjusted closing price, the short and long windows of rolling means\n",
    "Tata_Power[['Adj Close', '44', '100']].plot(title=\"Tata_Power\")\n",
    "plt.title('Tata Power')\n",
    "plt.ylabel('Adjusted Closing Price')\n",
    "plt.show()"
   ]
  },
  {
   "cell_type": "code",
   "execution_count": 32,
   "id": "f3a9b641-63b1-456f-85ea-f161cba25dd7",
   "metadata": {},
   "outputs": [
    {
     "data": {
      "image/png": "[encoded data removed]",
      "text/plain": [
       "<Figure size 432x288 with 1 Axes>"
      ]
     },
     "metadata": {},
     "output_type": "display_data"
    }
   ],
   "source": [
    "Tata_Power.loc['2021-01-01':'2021-12-31'][['Adj Close', '44', '100']].plot(title=\"Tata Power in 2021\");"
   ]
  },
  {
   "cell_type": "markdown",
   "id": "a6028621-07c7-4045-a9ab-a0059c7ba284",
   "metadata": {},
   "source": [
    "# **Step3:- Conclusion**"
   ]
  },
  {
   "cell_type": "markdown",
   "id": "6e7fe238-29de-4039-a5b6-1f5fde8f5faa",
   "metadata": {},
   "source": [
    "**From 2021 onwards, the stock has been steadily rising.**"
   ]
  },
  {
   "cell_type": "markdown",
   "id": "bf03bdc6-d5b3-435f-a102-0da465df5f14",
   "metadata": {},
   "source": [
    "**Based on the preceding analysis, I believe that the stock trend is trending upwards,**\n",
    "**and that now is the best moment to enter or buy in this stock.**"
   ]
  },
  {
   "cell_type": "code",
   "execution_count": null,
   "id": "1ffcf05a-6f3b-4388-8da5-bfed5e39f069",
   "metadata": {},
   "outputs": [],
   "source": []
  }
 ],
 "metadata": {
  "kernelspec": {
   "display_name": "Python 3",
   "language": "python",
   "name": "python3"
  },
  "language_info": {
   "codemirror_mode": {
    "name": "ipython",
    "version": 3
   },
   "file_extension": ".py",
   "mimetype": "text/x-python",
   "name": "python",
   "nbconvert_exporter": "python",
   "pygments_lexer": "ipython3",
   "version": "3.8.8"
  }
 },
 "nbformat": 4,
 "nbformat_minor": 5
}
